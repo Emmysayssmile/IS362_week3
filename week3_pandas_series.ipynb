{
 "cells": [
  {
   "cell_type": "code",
   "execution_count": null,
   "id": "3279edb3-5b80-44e1-aee7-3e1cf3035ab4",
   "metadata": {},
   "outputs": [],
   "source": [
    "# IS 362 – Week 3 Assignment  \n",
    "### Pandas Series: Bicycle Miles from New York City to Key West\n"
   ]
  },
  {
   "cell_type": "code",
   "execution_count": 4,
   "id": "b58200dd-a6dd-457e-8781-ab6596d3c9d8",
   "metadata": {},
   "outputs": [],
   "source": [
    "import pandas as pd"
   ]
  },
  {
   "cell_type": "code",
   "execution_count": 5,
   "id": "0790de08-3f9b-4bde-8d1d-0386819ab74d",
   "metadata": {},
   "outputs": [
    {
     "data": {
      "text/plain": [
       "0     55\n",
       "1    120\n",
       "2    180\n",
       "3    250\n",
       "4    310\n",
       "5    400\n",
       "Name: Cumulative Miles, dtype: int64"
      ]
     },
     "execution_count": 5,
     "metadata": {},
     "output_type": "execute_result"
    }
   ],
   "source": [
    "# Cumulative miles at the end of each day\n",
    "cumulative_miles = [55, 120, 180, 250, 310, 400]\n",
    "\n",
    "miles_series = pd.Series(cumulative_miles, name=\"Cumulative Miles\")\n",
    "miles_series\n"
   ]
  },
  {
   "cell_type": "code",
   "execution_count": 8,
   "id": "c2e01621-0002-4f25-a813-caf028427a46",
   "metadata": {},
   "outputs": [
    {
     "data": {
      "text/plain": [
       "0    55.0\n",
       "1    65.0\n",
       "2    60.0\n",
       "3    70.0\n",
       "4    60.0\n",
       "5    90.0\n",
       "Name: Daily Miles, dtype: float64"
      ]
     },
     "execution_count": 8,
     "metadata": {},
     "output_type": "execute_result"
    }
   ],
   "source": [
    "daily_miles = miles_series.diff().fillna(miles_series.iloc[0])\n",
    "daily_miles.name = \"Daily Miles\"\n",
    "daily_miles\n"
   ]
  },
  {
   "cell_type": "code",
   "execution_count": 9,
   "id": "aeace570-79f1-4d1a-b451-b7ba7b93b841",
   "metadata": {},
   "outputs": [
    {
     "data": {
      "text/html": [
       "<div>\n",
       "<style scoped>\n",
       "    .dataframe tbody tr th:only-of-type {\n",
       "        vertical-align: middle;\n",
       "    }\n",
       "\n",
       "    .dataframe tbody tr th {\n",
       "        vertical-align: top;\n",
       "    }\n",
       "\n",
       "    .dataframe thead th {\n",
       "        text-align: right;\n",
       "    }\n",
       "</style>\n",
       "<table border=\"1\" class=\"dataframe\">\n",
       "  <thead>\n",
       "    <tr style=\"text-align: right;\">\n",
       "      <th></th>\n",
       "      <th>Cumulative Miles</th>\n",
       "      <th>Daily Miles</th>\n",
       "    </tr>\n",
       "  </thead>\n",
       "  <tbody>\n",
       "    <tr>\n",
       "      <th>0</th>\n",
       "      <td>55</td>\n",
       "      <td>55.0</td>\n",
       "    </tr>\n",
       "    <tr>\n",
       "      <th>1</th>\n",
       "      <td>120</td>\n",
       "      <td>65.0</td>\n",
       "    </tr>\n",
       "    <tr>\n",
       "      <th>2</th>\n",
       "      <td>180</td>\n",
       "      <td>60.0</td>\n",
       "    </tr>\n",
       "    <tr>\n",
       "      <th>3</th>\n",
       "      <td>250</td>\n",
       "      <td>70.0</td>\n",
       "    </tr>\n",
       "    <tr>\n",
       "      <th>4</th>\n",
       "      <td>310</td>\n",
       "      <td>60.0</td>\n",
       "    </tr>\n",
       "    <tr>\n",
       "      <th>5</th>\n",
       "      <td>400</td>\n",
       "      <td>90.0</td>\n",
       "    </tr>\n",
       "  </tbody>\n",
       "</table>\n",
       "</div>"
      ],
      "text/plain": [
       "   Cumulative Miles  Daily Miles\n",
       "0                55         55.0\n",
       "1               120         65.0\n",
       "2               180         60.0\n",
       "3               250         70.0\n",
       "4               310         60.0\n",
       "5               400         90.0"
      ]
     },
     "execution_count": 9,
     "metadata": {},
     "output_type": "execute_result"
    }
   ],
   "source": [
    "results = pd.DataFrame({\n",
    "    \"Cumulative Miles\": miles_series,\n",
    "    \"Daily Miles\": daily_miles\n",
    "})\n",
    "results\n"
   ]
  },
  {
   "cell_type": "code",
   "execution_count": null,
   "id": "d8ba0186-8807-48d2-a070-202e65acfd60",
   "metadata": {},
   "outputs": [],
   "source": []
  }
 ],
 "metadata": {
  "kernelspec": {
   "display_name": "Python [conda env:base] *",
   "language": "python",
   "name": "conda-base-py"
  },
  "language_info": {
   "codemirror_mode": {
    "name": "ipython",
    "version": 3
   },
   "file_extension": ".py",
   "mimetype": "text/x-python",
   "name": "python",
   "nbconvert_exporter": "python",
   "pygments_lexer": "ipython3",
   "version": "3.13.5"
  }
 },
 "nbformat": 4,
 "nbformat_minor": 5
}
